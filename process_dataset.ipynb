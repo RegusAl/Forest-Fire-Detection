{
 "cells": [
  {
   "cell_type": "markdown",
   "metadata": {},
   "source": [
    "# Remove unnecessary files and relocate some files"
   ]
  },
  {
   "cell_type": "code",
   "execution_count": null,
   "metadata": {},
   "outputs": [],
   "source": [
    "!rm datasets/kutaykutlu_forest-fire/train-smoke/ -r\n",
    "!rm datasets/kutaykutlu_forest-fire/test_small/ -r\n",
    "!rm datasets/kutaykutlu_forest-fire/test_big/ -r\n",
    "!rm datasets/elmadafri_the-wildfire-dataset/the_wildfire_dataset_2n_version/val/fire/desktop.ini\n",
    "!mkdir \"datasets\\alik05_forest-fire-dataset\\Forest Fire Dataset\\Testing\\nofire\"\n",
    "!mkdir \"datasets\\alik05_forest-fire-dataset\\Forest Fire Dataset\\Testing\\fire\""
   ]
  },
  {
   "cell_type": "code",
   "execution_count": null,
   "metadata": {},
   "outputs": [],
   "source": [
    "import os\n",
    "for f in os.scandir(\"datasets/alik05_forest-fire-dataset/Forest Fire Dataset/Testing\"):\n",
    "    if f.is_file() and f.name.endswith((\".jpg\", \".png\")):\n",
    "        os.rename(\"datasets/alik05_forest-fire-dataset/Forest Fire Dataset/Testing/\"+f.name,\"datasets/alik05_forest-fire-dataset/Forest Fire Dataset/Testing/\"+f.name.split(\"_\")[0]+\"/\"+f.name)"
   ]
  },
  {
   "cell_type": "markdown",
   "metadata": {},
   "source": [
    "# Delete corrupted images"
   ]
  },
  {
   "cell_type": "code",
   "execution_count": null,
   "metadata": {},
   "outputs": [],
   "source": [
    "import os \n",
    "import PIL.Image\n",
    "def delete_corrupted_images(parent_folder):\n",
    "    valid_extensions = {\".jpg\", \".jpeg\", \".png\"}\n",
    "    \n",
    "    for root, _, files in os.walk(parent_folder):\n",
    "        for filename in files:\n",
    "            file_path = os.path.join(root, filename)\n",
    "            file_ext = os.path.splitext(file_path)[1].lower()\n",
    "\n",
    "            if file_ext not in valid_extensions:\n",
    "                continue\n",
    "\n",
    "            try:\n",
    "                with Image.open(file_path) as img:\n",
    "                    img.verify()\n",
    "            except (IOError, SyntaxError):\n",
    "                print(f\"Deleting corrupted image: {file_path}\")\n",
    "                os.remove(file_path)\n",
    "\n",
    "\n",
    "PIL.Image.MAX_IMAGE_PIXELS = 289478485\n",
    "parent_folder = \"datasets/\"\n",
    "delete_corrupted_images(parent_folder)\n",
    "PIL.Image.MAX_IMAGE_PIXELS = 89478485"
   ]
  }
 ],
 "metadata": {
  "kernelspec": {
   "display_name": "second_env",
   "language": "python",
   "name": "python3"
  },
  "language_info": {
   "codemirror_mode": {
    "name": "ipython",
    "version": 3
   },
   "file_extension": ".py",
   "mimetype": "text/x-python",
   "name": "python",
   "nbconvert_exporter": "python",
   "pygments_lexer": "ipython3",
   "version": "3.9.16"
  }
 },
 "nbformat": 4,
 "nbformat_minor": 2
}
