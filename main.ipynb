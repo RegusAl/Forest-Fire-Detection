{
 "cells": [
  {
   "cell_type": "markdown",
   "metadata": {},
   "source": [
    "## To make things simpler, the datasets will be renamed: <br>\n",
    "alik05_forest-fire-dataset = dataset1 <br> <br>\n",
    "elmadafri_the-wildfire-dataset = dataset2 <br> <br>\n",
    "kutaykutlu_forest-fire = dataset3 <br> <br>\n",
    "mohnishsaiprasad_forest-fire-images = dataset4 <br> <br>\n",
    "phylake1337_fire-dataset = dataset5 <br> <br>"
   ]
  },
  {
   "cell_type": "code",
   "execution_count": 1,
   "metadata": {},
   "outputs": [],
   "source": [
    "import os\n",
    "import numpy as np\n",
    "from PIL import Image\n",
    "\n",
    "import tensorflow as tf\n",
    "from sklearn.model_selection import train_test_split\n",
    "from tensorflow.keras import layers, models\n"
   ]
  },
  {
   "cell_type": "code",
   "execution_count": 2,
   "metadata": {},
   "outputs": [],
   "source": [
    "#path_to_dataset_folder = \"C:/Users/RoscaMitrut/Desktop/Forest-Fire-Detection/datasets\"\n",
    "path_to_dataset_folder = \"\""
   ]
  },
  {
   "cell_type": "code",
   "execution_count": 3,
   "metadata": {},
   "outputs": [],
   "source": [
    "\n",
    "dataset1_path = path_to_dataset_folder + \"datasets/alik05_forest-fire-dataset/Forest Fire Dataset/\"\n",
    "dataset2_path = path_to_dataset_folder + \"datasets/elmadafri_the-wildfire-dataset/the_wildfire_dataset_2n_version/\"\n",
    "dataset3_path = path_to_dataset_folder + \"datasets/kutaykutlu_forest-fire/\"\n",
    "dataset4_path = path_to_dataset_folder + \"datasets/mohnishsaiprasad_forest-fire-images/Data/\"\n",
    "dataset5_path = path_to_dataset_folder + \"datasets/phylake1337_fire-dataset/fire_dataset/\""
   ]
  },
  {
   "cell_type": "code",
   "execution_count": 4,
   "metadata": {},
   "outputs": [],
   "source": [
    "def load_data_paths(dataset_path,folders_labels):\n",
    "    dataset_x = []\n",
    "    dataset_y = []\n",
    "    for folder,label in folders_labels:\n",
    "        try:\n",
    "            for f in os.scandir(dataset_path+folder):\n",
    "                if f.is_file() and f.name.endswith((\".jpg\", \".png\")):\n",
    "                    dataset_x.append(dataset_path+folder+\"/\"+f.name)\n",
    "                    dataset_y.append(label)\n",
    "        except:\n",
    "            break                \n",
    "    return dataset_x,dataset_y"
   ]
  },
  {
   "cell_type": "markdown",
   "metadata": {},
   "source": [
    "# Dataset1"
   ]
  },
  {
   "cell_type": "code",
   "execution_count": 5,
   "metadata": {},
   "outputs": [
    {
     "data": {
      "text/plain": [
       "(1900, 1900)"
      ]
     },
     "execution_count": 5,
     "metadata": {},
     "output_type": "execute_result"
    }
   ],
   "source": [
    "dataset1_X, dataset1_Y = load_data_paths(dataset1_path,[(\"Training/fire\",1),(\"Training/nofire\",0),(\"Testing/fire\",1),(\"Testing/nofire\",0)])\n",
    "\n",
    "len(dataset1_X),len(dataset1_Y)"
   ]
  },
  {
   "cell_type": "markdown",
   "metadata": {},
   "source": [
    "# Dataset2"
   ]
  },
  {
   "cell_type": "code",
   "execution_count": 6,
   "metadata": {},
   "outputs": [
    {
     "data": {
      "text/plain": [
       "(2699, 2699)"
      ]
     },
     "execution_count": 6,
     "metadata": {},
     "output_type": "execute_result"
    }
   ],
   "source": [
    "dataset2_X, dataset2_Y = load_data_paths(dataset2_path,[(\"test/fire\",1),(\"test/nofire\",0),(\"train/fire\",1),(\"train/nofire\",0),(\"val/fire\",1),(\"val/nofire\",0)])\n",
    "\n",
    "len(dataset2_X),len(dataset2_Y)"
   ]
  },
  {
   "cell_type": "markdown",
   "metadata": {},
   "source": [
    "# Dataset3"
   ]
  },
  {
   "cell_type": "code",
   "execution_count": 7,
   "metadata": {},
   "outputs": [
    {
     "data": {
      "text/plain": [
       "(1102, 1102)"
      ]
     },
     "execution_count": 7,
     "metadata": {},
     "output_type": "execute_result"
    }
   ],
   "source": [
    "dataset3_X, dataset3_Y = load_data_paths(dataset3_path,[(\"train_fire\",1)])\n",
    "\n",
    "len(dataset3_X),len(dataset3_Y)"
   ]
  },
  {
   "cell_type": "markdown",
   "metadata": {},
   "source": [
    "# Dataset4"
   ]
  },
  {
   "cell_type": "code",
   "execution_count": 8,
   "metadata": {},
   "outputs": [
    {
     "data": {
      "text/plain": [
       "(4661, 4661)"
      ]
     },
     "execution_count": 8,
     "metadata": {},
     "output_type": "execute_result"
    }
   ],
   "source": [
    "dataset4_X, dataset4_Y = load_data_paths(dataset4_path,[(\"Test_Data/Fire\",1),(\"Test_Data/Non_Fire\",0),(\"Train_Data/Fire\",1),(\"Train_Data/Non_Fire\",0)])\n",
    "\n",
    "len(dataset4_X),len(dataset4_Y)"
   ]
  },
  {
   "cell_type": "markdown",
   "metadata": {},
   "source": [
    "# Dataset5"
   ]
  },
  {
   "cell_type": "code",
   "execution_count": 9,
   "metadata": {},
   "outputs": [
    {
     "data": {
      "text/plain": [
       "(999, 999)"
      ]
     },
     "execution_count": 9,
     "metadata": {},
     "output_type": "execute_result"
    }
   ],
   "source": [
    "dataset5_X, dataset5_Y = load_data_paths(dataset5_path,[(\"fire_images\",1),(\"non_fire_images\",0)])\n",
    "\n",
    "len(dataset5_X),len(dataset5_Y)"
   ]
  },
  {
   "cell_type": "markdown",
   "metadata": {},
   "source": [
    "# Splitting and merging datasets for training"
   ]
  },
  {
   "cell_type": "code",
   "execution_count": 10,
   "metadata": {},
   "outputs": [],
   "source": [
    "dataset_X = np.array(dataset1_X + dataset2_X + dataset3_X + dataset4_X + dataset5_X)\n",
    "dataset_Y = np.array(dataset1_Y + dataset2_Y + dataset3_Y + dataset4_Y + dataset5_Y)\n",
    "\n",
    "def shuffle_data(X, Y):\n",
    "    indices = np.random.permutation(len(X))\n",
    "    return X[indices], Y[indices]\n",
    "\n",
    "dataset_X,dataset_Y = shuffle_data(dataset_X,dataset_Y)\n",
    "\n",
    "X_train,X_test,Y_train,Y_test = train_test_split(dataset_X,dataset_Y,test_size=0.16)\n",
    "X_train,X_val,Y_train,Y_val = train_test_split(X_train,Y_train,test_size=0.19)"
   ]
  },
  {
   "cell_type": "code",
   "execution_count": 11,
   "metadata": {},
   "outputs": [],
   "source": [
    "del dataset1_X,dataset1_Y,dataset2_X,dataset2_Y,dataset3_X,dataset3_Y,dataset4_X,dataset4_Y,dataset5_X,dataset5_Y,dataset_X,dataset_Y\n",
    "del dataset1_path,dataset2_path,dataset3_path,dataset4_path,dataset5_path,path_to_dataset_folder"
   ]
  },
  {
   "cell_type": "markdown",
   "metadata": {},
   "source": [
    "# Training"
   ]
  },
  {
   "cell_type": "code",
   "execution_count": 12,
   "metadata": {},
   "outputs": [],
   "source": [
    "def load_image(file_name, target_size = (256, 256)):\n",
    "    raw = tf.io.read_file(file_name)\n",
    "    tensor = tf.io.decode_image(raw, channels=3, expand_animations=False)\n",
    "    tensor = tf.image.resize(tensor, target_size)\n",
    "    tensor = tf.cast(tensor, tf.float32) / 255.0\n",
    "    return tensor\n",
    "\n",
    "def create_dataset(file_paths, labels, batch_size=32, target_size=(224, 224)):\n",
    "    file_paths_tensor = tf.constant(file_paths)\n",
    "    labels_tensor = tf.constant(labels, dtype=tf.float32)\n",
    "    \n",
    "    dataset = tf.data.Dataset.from_tensor_slices((file_paths_tensor, labels_tensor))\n",
    "    \n",
    "    def _load_and_preprocess(path, label):\n",
    "        image = load_image(path, target_size)\n",
    "        return image, label\n",
    "    \n",
    "    dataset = dataset.map(_load_and_preprocess, num_parallel_calls=tf.data.AUTOTUNE)\n",
    "    \n",
    "    dataset = dataset.batch(batch_size)\n",
    "    dataset = dataset.prefetch(tf.data.AUTOTUNE)\n",
    "    \n",
    "    return dataset\n",
    "    "
   ]
  },
  {
   "cell_type": "code",
   "execution_count": 13,
   "metadata": {},
   "outputs": [],
   "source": [
    "train_dataset = create_dataset(X_train, Y_train, batch_size=32, target_size=(256, 256))\n",
    "test_dataset = create_dataset(X_test, Y_test, batch_size=32, target_size=(256, 256))\n",
    "val_dataset = create_dataset(X_val, Y_val, batch_size=32, target_size=(256, 256))"
   ]
  },
  {
   "cell_type": "code",
   "execution_count": 14,
   "metadata": {},
   "outputs": [
    {
     "name": "stdout",
     "output_type": "stream",
     "text": [
      "Model: \"sequential\"\n",
      "_________________________________________________________________\n",
      " Layer (type)                Output Shape              Param #   \n",
      "=================================================================\n",
      " conv2d (Conv2D)             (None, 254, 254, 32)      896       \n",
      "                                                                 \n",
      " max_pooling2d (MaxPooling2D  (None, 127, 127, 32)     0         \n",
      " )                                                               \n",
      "                                                                 \n",
      " conv2d_1 (Conv2D)           (None, 125, 125, 64)      18496     \n",
      "                                                                 \n",
      " max_pooling2d_1 (MaxPooling  (None, 62, 62, 64)       0         \n",
      " 2D)                                                             \n",
      "                                                                 \n",
      " conv2d_2 (Conv2D)           (None, 60, 60, 128)       73856     \n",
      "                                                                 \n",
      " max_pooling2d_2 (MaxPooling  (None, 30, 30, 128)      0         \n",
      " 2D)                                                             \n",
      "                                                                 \n",
      " flatten (Flatten)           (None, 115200)            0         \n",
      "                                                                 \n",
      " dense (Dense)               (None, 128)               14745728  \n",
      "                                                                 \n",
      " dropout (Dropout)           (None, 128)               0         \n",
      "                                                                 \n",
      " dense_1 (Dense)             (None, 1)                 129       \n",
      "                                                                 \n",
      "=================================================================\n",
      "Total params: 14,839,105\n",
      "Trainable params: 14,839,105\n",
      "Non-trainable params: 0\n",
      "_________________________________________________________________\n"
     ]
    }
   ],
   "source": [
    "model = models.Sequential([\n",
    "        layers.Conv2D(32, (3, 3), activation='relu', input_shape=(256, 256, 3)),\n",
    "        layers.MaxPooling2D((2, 2)),\n",
    "        layers.Conv2D(64, (3, 3), activation='relu'),\n",
    "        layers.MaxPooling2D((2, 2)),\n",
    "        layers.Conv2D(128, (3, 3), activation='relu'),\n",
    "        layers.MaxPooling2D((2, 2)),\n",
    "        layers.Flatten(),\n",
    "        layers.Dense(128, activation='relu'),\n",
    "        layers.Dropout(0.5),\n",
    "        layers.Dense(1, activation='sigmoid')\n",
    "    ])\n",
    "    \n",
    "model.compile(\n",
    "    optimizer='adam',\n",
    "    loss='binary_crossentropy',\n",
    "    metrics=['accuracy', tf.keras.metrics.Precision(name='precision'), tf.keras.metrics.Recall(name='recall')]\n",
    ")\n",
    "\n",
    "model.summary()"
   ]
  },
  {
   "cell_type": "code",
   "execution_count": 15,
   "metadata": {},
   "outputs": [
    {
     "name": "stdout",
     "output_type": "stream",
     "text": [
      "Dataset element type: <class 'tuple'>\n",
      "Number of elements: 2\n",
      "Images shape: (32, 256, 256, 3)\n",
      "Labels shape: (32,)\n",
      "Sample labels: [1. 0. 0. 1. 0. 1. 1. 1. 0. 0. 1. 1. 0. 1. 1. 0. 1. 0. 1. 1. 0. 0. 0. 1.\n",
      " 0. 0. 1. 1. 1. 0. 1. 1.]\n"
     ]
    }
   ],
   "source": [
    "for data in train_dataset.take(1):\n",
    "    print(\"Dataset element type:\", type(data))\n",
    "    print(\"Number of elements:\", len(data))\n",
    "    if len(data) == 2:\n",
    "        images, labels = data\n",
    "        print(\"Images shape:\", images.shape)\n",
    "        print(\"Labels shape:\", labels.shape)\n",
    "        print(\"Sample labels:\", labels.numpy())\n",
    "        \n",
    "del data,images,labels\n"
   ]
  },
  {
   "cell_type": "code",
   "execution_count": 16,
   "metadata": {},
   "outputs": [
    {
     "name": "stdout",
     "output_type": "stream",
     "text": [
      "Epoch 1/7\n",
      "242/242 [==============================] - 76s 289ms/step - loss: 0.4108 - accuracy: 0.8284 - precision: 0.8437 - recall: 0.8262 - val_loss: 0.2915 - val_accuracy: 0.8809 - val_precision: 0.9010 - val_recall: 0.8710\n",
      "Epoch 2/7\n",
      "242/242 [==============================] - 69s 283ms/step - loss: 0.3022 - accuracy: 0.8691 - precision: 0.8709 - recall: 0.8812 - val_loss: 0.2729 - val_accuracy: 0.8853 - val_precision: 0.8830 - val_recall: 0.9032\n",
      "Epoch 3/7\n",
      "242/242 [==============================] - 69s 282ms/step - loss: 0.2652 - accuracy: 0.8894 - precision: 0.8884 - recall: 0.9026 - val_loss: 0.2407 - val_accuracy: 0.8964 - val_precision: 0.8884 - val_recall: 0.9199\n",
      "Epoch 4/7\n",
      "242/242 [==============================] - 69s 282ms/step - loss: 0.2312 - accuracy: 0.9043 - precision: 0.9023 - recall: 0.9169 - val_loss: 0.2259 - val_accuracy: 0.9052 - val_precision: 0.9080 - val_recall: 0.9136\n",
      "Epoch 5/7\n",
      "242/242 [==============================] - 67s 275ms/step - loss: 0.1897 - accuracy: 0.9219 - precision: 0.9245 - recall: 0.9268 - val_loss: 0.2295 - val_accuracy: 0.9090 - val_precision: 0.9095 - val_recall: 0.9199\n",
      "Epoch 6/7\n",
      "242/242 [==============================] - 67s 273ms/step - loss: 0.1563 - accuracy: 0.9406 - precision: 0.9429 - recall: 0.9440 - val_loss: 0.2489 - val_accuracy: 0.9052 - val_precision: 0.8981 - val_recall: 0.9261\n",
      "Epoch 7/7\n",
      "242/242 [==============================] - 67s 273ms/step - loss: 0.1135 - accuracy: 0.9552 - precision: 0.9549 - recall: 0.9601 - val_loss: 0.2901 - val_accuracy: 0.8953 - val_precision: 0.8882 - val_recall: 0.9178\n"
     ]
    }
   ],
   "source": [
    "history = model.fit(train_dataset, epochs=7, validation_data=val_dataset, verbose=1)"
   ]
  },
  {
   "cell_type": "code",
   "execution_count": 17,
   "metadata": {},
   "outputs": [
    {
     "data": {
      "image/png": "[encoded data removed]",
      "text/plain": [
       "<Figure size 640x480 with 1 Axes>"
      ]
     },
     "metadata": {},
     "output_type": "display_data"
    }
   ],
   "source": [
    "import matplotlib.pyplot as plt\n",
    "plt.plot(history.history['loss'], label='loss')\n",
    "plt.plot(history.history['accuracy'], label='accuracy')\n",
    "plt.plot(history.history['precision'], label = 'precision')\n",
    "plt.plot(history.history['recall'], label = 'recall')\n",
    "plt.plot(history.history['val_loss'], label = 'val_loss')\n",
    "plt.plot(history.history['val_accuracy'], label = 'val_accuracy')\n",
    "plt.plot(history.history['val_precision'], label = 'val_precision')\n",
    "plt.plot(history.history['val_recall'], label = 'val_recall')\n",
    "\n",
    "plt.xlabel('Epoch')\n",
    "plt.ylabel('Accuracy')\n",
    "plt.ylim([0, 1])\n",
    "plt.legend(loc='lower right')\n",
    "plt.show()"
   ]
  },
  {
   "cell_type": "code",
   "execution_count": 18,
   "metadata": {},
   "outputs": [
    {
     "name": "stdout",
     "output_type": "stream",
     "text": [
      "57/57 [==============================] - 14s 233ms/step\n"
     ]
    },
    {
     "data": {
      "image/png": "[encoded data removed]",
      "text/plain": [
       "<Figure size 640x480 with 2 Axes>"
      ]
     },
     "metadata": {},
     "output_type": "display_data"
    }
   ],
   "source": [
    "import seaborn as sns\n",
    "from sklearn.metrics import confusion_matrix\n",
    "import matplotlib.pyplot as plt\n",
    "def plot_confusion_matrix(y_true, y_pred):\n",
    "    cm = confusion_matrix(y_true, y_pred)\n",
    "    sns.heatmap(cm, annot=True, fmt='d', cmap='Blues')\n",
    "    plt.xlabel('Predicted labels')\n",
    "    plt.ylabel('True labels')\n",
    "    plt.title('Confusion Matrix')\n",
    "    plt.show()\n",
    "\n",
    "y_pred = model.predict(test_dataset).flatten()\n",
    "y_pred = np.round(y_pred)\n",
    "plot_confusion_matrix(Y_test, y_pred)"
   ]
  },
  {
   "cell_type": "code",
   "execution_count": 19,
   "metadata": {},
   "outputs": [],
   "source": [
    "model.save(\"fire_detection_model.h5\")"
   ]
  },
  {
   "cell_type": "code",
   "execution_count": 20,
   "metadata": {},
   "outputs": [],
   "source": [
    "loaded_model = models.load_model(\"fire_detection_model.h5\")"
   ]
  }
 ],
 "metadata": {
  "kernelspec": {
   "display_name": "second_env",
   "language": "python",
   "name": "python3"
  },
  "language_info": {
   "codemirror_mode": {
    "name": "ipython",
    "version": 3
   },
   "file_extension": ".py",
   "mimetype": "text/x-python",
   "name": "python",
   "nbconvert_exporter": "python",
   "pygments_lexer": "ipython3",
   "version": "3.9.16"
  }
 },
 "nbformat": 4,
 "nbformat_minor": 2
}
