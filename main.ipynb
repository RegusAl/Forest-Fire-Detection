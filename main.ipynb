{
 "cells": [
  {
   "cell_type": "markdown",
   "metadata": {},
   "source": [
    "## To make things simpler, the datasets will be renamed: <br>\n",
    "alik05_forest-fire-dataset = dataset1 <br> <br>\n",
    "elmadafri_the-wildfire-dataset = dataset2 <br> <br>\n",
    "kutaykutlu_forest-fire = dataset3 <br> <br>\n",
    "mohnishsaiprasad_forest-fire-images = dataset4 <br> <br>\n",
    "phylake1337_fire-dataset = dataset5 <br> <br>"
   ]
  },
  {
   "cell_type": "code",
   "execution_count": 1,
   "metadata": {},
   "outputs": [],
   "source": [
    "import os\n",
    "import numpy as np\n",
    "from PIL import Image\n",
    "\n",
    "import tensorflow as tf\n",
    "from sklearn.model_selection import train_test_split\n",
    "from tensorflow.keras import layers, models\n"
   ]
  },
  {
   "cell_type": "code",
   "execution_count": 2,
   "metadata": {},
   "outputs": [],
   "source": [
    "#path_to_dataset_folder = \"C:/Users/RoscaMitrut/Desktop/Forest-Fire-Detection/datasets\"\n",
    "path_to_dataset_folder = \"\""
   ]
  },
  {
   "cell_type": "code",
   "execution_count": 3,
   "metadata": {},
   "outputs": [],
   "source": [
    "\n",
    "dataset1_path = path_to_dataset_folder + \"datasets/alik05_forest-fire-dataset/Forest Fire Dataset/\"\n",
    "dataset2_path = path_to_dataset_folder + \"datasets/elmadafri_the-wildfire-dataset/the_wildfire_dataset_2n_version/\"\n",
    "dataset3_path = path_to_dataset_folder + \"datasets/kutaykutlu_forest-fire/\"\n",
    "dataset4_path = path_to_dataset_folder + \"datasets/mohnishsaiprasad_forest-fire-images/Data/\"\n",
    "dataset5_path = path_to_dataset_folder + \"datasets/phylake1337_fire-dataset/fire_dataset/\""
   ]
  },
  {
   "cell_type": "code",
   "execution_count": 4,
   "metadata": {},
   "outputs": [],
   "source": [
    "def load_data_paths(dataset_path,folders_labels):\n",
    "    dataset_x = []\n",
    "    dataset_y = []\n",
    "    for folder,label in folders_labels:\n",
    "        try:\n",
    "            for f in os.scandir(dataset_path+folder):\n",
    "                if f.is_file() and f.name.endswith((\".jpg\", \".png\")):\n",
    "                    dataset_x.append(dataset_path+folder+\"/\"+f.name)\n",
    "                    dataset_y.append(label)\n",
    "        except:\n",
    "            break                \n",
    "    return dataset_x,dataset_y"
   ]
  },
  {
   "cell_type": "markdown",
   "metadata": {},
   "source": [
    "# Dataset1"
   ]
  },
  {
   "cell_type": "code",
   "execution_count": 5,
   "metadata": {},
   "outputs": [
    {
     "data": {
      "text/plain": [
       "(1900, 1900)"
      ]
     },
     "execution_count": 5,
     "metadata": {},
     "output_type": "execute_result"
    }
   ],
   "source": [
    "dataset1_X, dataset1_Y = load_data_paths(dataset1_path,[(\"Training/fire\",1),(\"Training/nofire\",0),(\"Testing/fire\",1),(\"Testing/nofire\",0)])\n",
    "\n",
    "len(dataset1_X),len(dataset1_Y)"
   ]
  },
  {
   "cell_type": "markdown",
   "metadata": {},
   "source": [
    "# Dataset2"
   ]
  },
  {
   "cell_type": "code",
   "execution_count": 6,
   "metadata": {},
   "outputs": [
    {
     "data": {
      "text/plain": [
       "(2699, 2699)"
      ]
     },
     "execution_count": 6,
     "metadata": {},
     "output_type": "execute_result"
    }
   ],
   "source": [
    "dataset2_X, dataset2_Y = load_data_paths(dataset2_path,[(\"test/fire\",1),(\"test/nofire\",0),(\"train/fire\",1),(\"train/nofire\",0),(\"val/fire\",1),(\"val/nofire\",0)])\n",
    "\n",
    "len(dataset2_X),len(dataset2_Y)"
   ]
  },
  {
   "cell_type": "markdown",
   "metadata": {},
   "source": [
    "# Dataset3"
   ]
  },
  {
   "cell_type": "code",
   "execution_count": 7,
   "metadata": {},
   "outputs": [
    {
     "data": {
      "text/plain": [
       "(1102, 1102)"
      ]
     },
     "execution_count": 7,
     "metadata": {},
     "output_type": "execute_result"
    }
   ],
   "source": [
    "dataset3_X, dataset3_Y = load_data_paths(dataset3_path,[(\"train_fire\",1)])\n",
    "\n",
    "len(dataset3_X),len(dataset3_Y)"
   ]
  },
  {
   "cell_type": "markdown",
   "metadata": {},
   "source": [
    "# Dataset4"
   ]
  },
  {
   "cell_type": "code",
   "execution_count": 8,
   "metadata": {},
   "outputs": [
    {
     "data": {
      "text/plain": [
       "(4661, 4661)"
      ]
     },
     "execution_count": 8,
     "metadata": {},
     "output_type": "execute_result"
    }
   ],
   "source": [
    "dataset4_X, dataset4_Y = load_data_paths(dataset4_path,[(\"Test_Data/Fire\",1),(\"Test_Data/Non_Fire\",0),(\"Train_Data/Fire\",1),(\"Train_Data/Non_Fire\",0)])\n",
    "\n",
    "len(dataset4_X),len(dataset4_Y)"
   ]
  },
  {
   "cell_type": "markdown",
   "metadata": {},
   "source": [
    "# Dataset5"
   ]
  },
  {
   "cell_type": "code",
   "execution_count": 9,
   "metadata": {},
   "outputs": [
    {
     "data": {
      "text/plain": [
       "(999, 999)"
      ]
     },
     "execution_count": 9,
     "metadata": {},
     "output_type": "execute_result"
    }
   ],
   "source": [
    "dataset5_X, dataset5_Y = load_data_paths(dataset5_path,[(\"fire_images\",1),(\"non_fire_images\",0)])\n",
    "\n",
    "len(dataset5_X),len(dataset5_Y)"
   ]
  },
  {
   "cell_type": "markdown",
   "metadata": {},
   "source": [
    "# Splitting"
   ]
  },
  {
   "cell_type": "code",
   "execution_count": 10,
   "metadata": {},
   "outputs": [],
   "source": [
    "dataset1_X = np.array(dataset1_X)\n",
    "dataset1_Y = np.array(dataset1_Y)\n",
    "dataset2_X = np.array(dataset2_X)\n",
    "dataset2_Y = np.array(dataset2_Y)\n",
    "dataset3_X = np.array(dataset3_X)\n",
    "dataset3_Y = np.array(dataset3_Y)\n",
    "dataset4_X = np.array(dataset4_X)\n",
    "dataset4_Y = np.array(dataset4_Y)\n",
    "dataset5_X = np.array(dataset5_X)\n",
    "dataset5_Y = np.array(dataset5_Y)\n",
    "\n",
    "X_train_dataset1,X_test_dataset1,Y_train_dataset1,Y_test_dataset1 = train_test_split(dataset1_X,dataset1_Y,test_size=0.16)\n",
    "X_train_dataset1,X_val_dataset1,Y_train_dataset1,Y_val_dataset1 = train_test_split(X_train_dataset1,Y_train_dataset1,test_size=0.19)\n",
    "\n",
    "X_train_dataset2,X_test_dataset2,Y_train_dataset2,Y_test_dataset2 = train_test_split(dataset2_X,dataset2_Y,test_size=0.16)\n",
    "X_train_dataset2,X_val_dataset2,Y_train_dataset2,Y_val_dataset2 = train_test_split(X_train_dataset2,Y_train_dataset2,test_size=0.19)\n",
    "\n",
    "X_train_dataset3,X_test_dataset3,Y_train_dataset3,Y_test_dataset3 = train_test_split(dataset3_X,dataset3_Y,test_size=0.16)\n",
    "X_train_dataset3,X_val_dataset3,Y_train_dataset3,Y_val_dataset3 = train_test_split(X_train_dataset3,Y_train_dataset3,test_size=0.19)\n",
    "\n",
    "X_train_dataset4,X_test_dataset4,Y_train_dataset4,Y_test_dataset4 = train_test_split(dataset4_X,dataset4_Y,test_size=0.16)\n",
    "X_train_dataset4,X_val_dataset4,Y_train_dataset4,Y_val_dataset4 = train_test_split(X_train_dataset4,Y_train_dataset4,test_size=0.19)\n",
    "\n",
    "X_train_dataset5,X_test_dataset5,Y_train_dataset5,Y_test_dataset5 = train_test_split(dataset5_X,dataset5_Y,test_size=0.16)\n",
    "X_train_dataset5,X_val_dataset5,Y_train_dataset5,Y_val_dataset5 = train_test_split(X_train_dataset5,Y_train_dataset5,test_size=0.19)"
   ]
  },
  {
   "cell_type": "markdown",
   "metadata": {},
   "source": [
    "# Merging datasets for training\n",
    "\n",
    "Modify this to exclude/include datasets and do different combinations"
   ]
  },
  {
   "cell_type": "code",
   "execution_count": 11,
   "metadata": {},
   "outputs": [],
   "source": [
    "def shuffle_data(X, Y):\n",
    "    indices = np.random.permutation(len(X))\n",
    "    return X[indices], Y[indices]\n",
    "\n",
    "X_train = np.concatenate((X_train_dataset1,X_train_dataset2,X_train_dataset3,X_train_dataset4,X_train_dataset5))\n",
    "Y_train = np.concatenate((Y_train_dataset1,Y_train_dataset2,Y_train_dataset3,Y_train_dataset4,Y_train_dataset5))\n",
    "X_train,Y_train = shuffle_data(X_train,Y_train)\n",
    "\n",
    "X_test = np.concatenate((X_test_dataset1,X_test_dataset2,X_test_dataset3,X_test_dataset4,X_test_dataset5))\n",
    "Y_test = np.concatenate((Y_test_dataset1,Y_test_dataset2,Y_test_dataset3,Y_test_dataset4,Y_test_dataset5))\n",
    "X_test,Y_test = shuffle_data(X_test,Y_test)\n",
    "\n",
    "X_val = np.concatenate((X_val_dataset1,X_val_dataset2,X_val_dataset3,X_val_dataset4,X_val_dataset5))\n",
    "Y_val = np.concatenate((Y_val_dataset1,Y_val_dataset2,Y_val_dataset3,Y_val_dataset4,Y_val_dataset5))\n",
    "X_val,Y_val = shuffle_data(X_val,Y_val)"
   ]
  },
  {
   "cell_type": "code",
   "execution_count": 12,
   "metadata": {},
   "outputs": [],
   "source": [
    "del dataset1_X,dataset1_Y,dataset2_X,dataset2_Y,dataset3_X,dataset3_Y,dataset4_X,dataset4_Y,dataset5_X,dataset5_Y\n",
    "del X_train_dataset1,X_test_dataset1,Y_train_dataset1,Y_test_dataset1,X_val_dataset1,Y_val_dataset1\n",
    "del X_train_dataset2,X_test_dataset2,Y_train_dataset2,Y_test_dataset2,X_val_dataset2,Y_val_dataset2\n",
    "del X_train_dataset3,X_test_dataset3,Y_train_dataset3,Y_test_dataset3,X_val_dataset3,Y_val_dataset3\n",
    "del X_train_dataset4,X_test_dataset4,Y_train_dataset4,Y_test_dataset4,X_val_dataset4,Y_val_dataset4\n",
    "del X_train_dataset5,X_test_dataset5,Y_train_dataset5,Y_test_dataset5,X_val_dataset5,Y_val_dataset5\n",
    "del dataset1_path,dataset2_path,dataset3_path,dataset4_path,dataset5_path,path_to_dataset_folder"
   ]
  },
  {
   "cell_type": "markdown",
   "metadata": {},
   "source": [
    "# Training"
   ]
  },
  {
   "cell_type": "code",
   "execution_count": 13,
   "metadata": {},
   "outputs": [],
   "source": [
    "def load_image(file_name, target_size = (256, 256)):\n",
    "    raw = tf.io.read_file(file_name)\n",
    "    tensor = tf.io.decode_image(raw, channels=3, expand_animations=False)\n",
    "    tensor = tf.image.resize(tensor, target_size)\n",
    "    tensor = tf.cast(tensor, tf.float32) / 255.0\n",
    "    return tensor\n",
    "\n",
    "def create_dataset(file_paths, labels, batch_size=32, target_size=(224, 224)):\n",
    "    file_paths_tensor = tf.constant(file_paths)\n",
    "    labels_tensor = tf.constant(labels, dtype=tf.float32)\n",
    "    \n",
    "    dataset = tf.data.Dataset.from_tensor_slices((file_paths_tensor, labels_tensor))\n",
    "    \n",
    "    def _load_and_preprocess(path, label):\n",
    "        image = load_image(path, target_size)\n",
    "        return image, label\n",
    "    \n",
    "    dataset = dataset.map(_load_and_preprocess, num_parallel_calls=tf.data.AUTOTUNE)\n",
    "    \n",
    "    dataset = dataset.batch(batch_size)\n",
    "    dataset = dataset.prefetch(tf.data.AUTOTUNE)\n",
    "    \n",
    "    return dataset\n",
    "    "
   ]
  },
  {
   "cell_type": "code",
   "execution_count": 14,
   "metadata": {},
   "outputs": [],
   "source": [
    "train_dataset = create_dataset(X_train, Y_train, batch_size=32, target_size=(256, 256))\n",
    "test_dataset = create_dataset(X_test, Y_test, batch_size=32, target_size=(256, 256))\n",
    "val_dataset = create_dataset(X_val, Y_val, batch_size=32, target_size=(256, 256))"
   ]
  },
  {
   "cell_type": "code",
   "execution_count": 15,
   "metadata": {},
   "outputs": [
    {
     "name": "stdout",
     "output_type": "stream",
     "text": [
      "Model: \"sequential\"\n",
      "_________________________________________________________________\n",
      " Layer (type)                Output Shape              Param #   \n",
      "=================================================================\n",
      " conv2d (Conv2D)             (None, 254, 254, 32)      896       \n",
      "                                                                 \n",
      " max_pooling2d (MaxPooling2D  (None, 127, 127, 32)     0         \n",
      " )                                                               \n",
      "                                                                 \n",
      " conv2d_1 (Conv2D)           (None, 125, 125, 64)      18496     \n",
      "                                                                 \n",
      " max_pooling2d_1 (MaxPooling  (None, 62, 62, 64)       0         \n",
      " 2D)                                                             \n",
      "                                                                 \n",
      " conv2d_2 (Conv2D)           (None, 60, 60, 128)       73856     \n",
      "                                                                 \n",
      " max_pooling2d_2 (MaxPooling  (None, 30, 30, 128)      0         \n",
      " 2D)                                                             \n",
      "                                                                 \n",
      " flatten (Flatten)           (None, 115200)            0         \n",
      "                                                                 \n",
      " dense (Dense)               (None, 128)               14745728  \n",
      "                                                                 \n",
      " dropout (Dropout)           (None, 128)               0         \n",
      "                                                                 \n",
      " dense_1 (Dense)             (None, 1)                 129       \n",
      "                                                                 \n",
      "=================================================================\n",
      "Total params: 14,839,105\n",
      "Trainable params: 14,839,105\n",
      "Non-trainable params: 0\n",
      "_________________________________________________________________\n"
     ]
    }
   ],
   "source": [
    "input_shape = (256, 256, 3)\n",
    "\n",
    "model = models.Sequential([\n",
    "        layers.Conv2D(32, (3, 3), activation='relu', input_shape=input_shape),\n",
    "        layers.MaxPooling2D((2, 2)),\n",
    "        layers.Conv2D(64, (3, 3), activation='relu'),\n",
    "        layers.MaxPooling2D((2, 2)),\n",
    "        layers.Conv2D(128, (3, 3), activation='relu'),\n",
    "        layers.MaxPooling2D((2, 2)),\n",
    "        layers.Flatten(),\n",
    "        layers.Dense(128, activation='relu'),\n",
    "        layers.Dropout(0.5),\n",
    "        layers.Dense(1, activation='sigmoid')\n",
    "    ])\n",
    "    \n",
    "model.compile(\n",
    "    optimizer='adam',\n",
    "    loss='binary_crossentropy',\n",
    "    metrics=['accuracy']\n",
    ")\n",
    "\n",
    "model.summary()"
   ]
  },
  {
   "cell_type": "code",
   "execution_count": 16,
   "metadata": {},
   "outputs": [
    {
     "name": "stdout",
     "output_type": "stream",
     "text": [
      "Dataset element type: <class 'tuple'>\n",
      "Number of elements: 2\n",
      "Images shape: (32, 256, 256, 3)\n",
      "Labels shape: (32,)\n",
      "Sample labels: [0. 0. 0. 0. 1. 1. 0. 0. 0. 0. 1. 1. 0. 1. 1. 0. 0. 0. 1. 1. 1. 0. 1. 1.\n",
      " 0. 0. 0. 1. 1. 0. 1. 1.]\n"
     ]
    }
   ],
   "source": [
    "for data in train_dataset.take(1):\n",
    "    print(\"Dataset element type:\", type(data))\n",
    "    print(\"Number of elements:\", len(data))\n",
    "    if len(data) == 2:\n",
    "        images, labels = data\n",
    "        print(\"Images shape:\", images.shape)\n",
    "        print(\"Labels shape:\", labels.shape)\n",
    "        print(\"Sample labels:\", labels.numpy())\n",
    "        \n",
    "del data\n"
   ]
  },
  {
   "cell_type": "code",
   "execution_count": 17,
   "metadata": {},
   "outputs": [
    {
     "name": "stdout",
     "output_type": "stream",
     "text": [
      "Epoch 1/10\n",
      "242/242 [==============================] - 93s 343ms/step - loss: 0.3803 - accuracy: 0.8364 - val_loss: 0.3291 - val_accuracy: 0.8683\n",
      "Epoch 2/10\n",
      "242/242 [==============================] - 73s 297ms/step - loss: 0.3084 - accuracy: 0.8723 - val_loss: 0.3205 - val_accuracy: 0.8645\n",
      "Epoch 3/10\n",
      "242/242 [==============================] - 71s 290ms/step - loss: 0.2703 - accuracy: 0.8847 - val_loss: 0.2935 - val_accuracy: 0.8639\n",
      "Epoch 4/10\n",
      "242/242 [==============================] - 72s 294ms/step - loss: 0.2309 - accuracy: 0.9018 - val_loss: 0.2474 - val_accuracy: 0.8904\n",
      "Epoch 5/10\n",
      "242/242 [==============================] - 71s 292ms/step - loss: 0.2021 - accuracy: 0.9141 - val_loss: 0.2903 - val_accuracy: 0.8804\n",
      "Epoch 6/10\n",
      "242/242 [==============================] - 71s 290ms/step - loss: 0.1774 - accuracy: 0.9266 - val_loss: 0.3249 - val_accuracy: 0.8672\n",
      "Epoch 7/10\n",
      "242/242 [==============================] - 71s 291ms/step - loss: 0.1453 - accuracy: 0.9371 - val_loss: 0.3486 - val_accuracy: 0.8656\n",
      "Epoch 8/10\n",
      "242/242 [==============================] - 71s 289ms/step - loss: 0.1272 - accuracy: 0.9485 - val_loss: 0.2825 - val_accuracy: 0.8964\n",
      "Epoch 9/10\n",
      "242/242 [==============================] - 71s 289ms/step - loss: 0.0946 - accuracy: 0.9631 - val_loss: 0.5511 - val_accuracy: 0.8160\n",
      "Epoch 10/10\n",
      "242/242 [==============================] - 70s 288ms/step - loss: 0.0821 - accuracy: 0.9664 - val_loss: 0.3547 - val_accuracy: 0.8920\n"
     ]
    }
   ],
   "source": [
    "history = model.fit(train_dataset, epochs=10, validation_data=val_dataset, verbose=1)"
   ]
  },
  {
   "cell_type": "code",
   "execution_count": 18,
   "metadata": {},
   "outputs": [
    {
     "data": {
      "image/png": "[encoded data removed]",
      "text/plain": [
       "<Figure size 640x480 with 1 Axes>"
      ]
     },
     "metadata": {},
     "output_type": "display_data"
    }
   ],
   "source": [
    "import matplotlib.pyplot as plt\n",
    "plt.plot(history.history['loss'], label='loss')\n",
    "plt.plot(history.history['accuracy'], label='accuracy')\n",
    "plt.plot(history.history['val_accuracy'], label = 'val_accuracy')\n",
    "plt.xlabel('Epoch')\n",
    "plt.ylabel('Accuracy')\n",
    "plt.ylim([0, 1])\n",
    "plt.legend(loc='lower right')\n",
    "plt.show()"
   ]
  },
  {
   "cell_type": "code",
   "execution_count": 19,
   "metadata": {},
   "outputs": [
    {
     "name": "stdout",
     "output_type": "stream",
     "text": [
      "57/57 [==============================] - 16s 274ms/step\n"
     ]
    },
    {
     "data": {
      "image/png": "[encoded data removed]",
      "text/plain": [
       "<Figure size 640x480 with 2 Axes>"
      ]
     },
     "metadata": {},
     "output_type": "display_data"
    }
   ],
   "source": [
    "import seaborn as sns\n",
    "from sklearn.metrics import confusion_matrix\n",
    "import matplotlib.pyplot as plt\n",
    "def plot_confusion_matrix(y_true, y_pred):\n",
    "    cm = confusion_matrix(y_true, y_pred)\n",
    "    sns.heatmap(cm, annot=True, fmt='d', cmap='Blues')\n",
    "    plt.xlabel('Predicted labels')\n",
    "    plt.ylabel('True labels')\n",
    "    plt.title('Confusion Matrix')\n",
    "    plt.show()\n",
    "\n",
    "y_pred = model.predict(test_dataset).flatten()\n",
    "y_pred = np.round(y_pred)\n",
    "plot_confusion_matrix(Y_test, y_pred)"
   ]
  },
  {
   "cell_type": "code",
   "execution_count": 20,
   "metadata": {},
   "outputs": [],
   "source": [
    "model.save(\"fire_detection_model.h5\")"
   ]
  },
  {
   "cell_type": "code",
   "execution_count": 21,
   "metadata": {},
   "outputs": [],
   "source": [
    "loaded_model = models.load_model(\"fire_detection_model.h5\")"
   ]
  }
 ],
 "metadata": {
  "kernelspec": {
   "display_name": "second_env",
   "language": "python",
   "name": "python3"
  },
  "language_info": {
   "codemirror_mode": {
    "name": "ipython",
    "version": 3
   },
   "file_extension": ".py",
   "mimetype": "text/x-python",
   "name": "python",
   "nbconvert_exporter": "python",
   "pygments_lexer": "ipython3",
   "version": "3.9.16"
  }
 },
 "nbformat": 4,
 "nbformat_minor": 2
}
